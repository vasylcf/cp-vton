{
 "cells": [
  {
   "cell_type": "code",
   "execution_count": 5,
   "metadata": {},
   "outputs": [],
   "source": [
    "from scipy.io import loadmat\n",
    "import numpy as np"
   ]
  },
  {
   "cell_type": "code",
   "execution_count": 6,
   "metadata": {},
   "outputs": [
    {
     "name": "stdout",
     "output_type": "stream",
     "text": [
      "convert_data.m\t  grid.png\t      README.md        train.py\r\n",
      "cp_dataset.py\t  human_colormap.mat  result\t       Unet_inference.ipynb\r\n",
      "data\t\t  LICENSE\t      superba_108      Unet.ipynb\r\n",
      "data_download.py  networks.py\t      superba_108.zip  visualization.py\r\n",
      "environment.yml   read_mat.ipynb      test.py\r\n"
     ]
    }
   ],
   "source": [
    "!ls"
   ]
  },
  {
   "cell_type": "code",
   "execution_count": 7,
   "metadata": {},
   "outputs": [
    {
     "data": {
      "text/plain": [
       "{'__header__': b'MATLAB 5.0 MAT-file, Platform: GLNXA64, Created on: Thu May 12 14:16:07 2016',\n",
       " '__version__': '1.0',\n",
       " '__globals__': [],\n",
       " 'colormap': array([[0.        , 0.        , 0.        ],\n",
       "        [0.5       , 0.        , 0.        ],\n",
       "        [0.99609375, 0.        , 0.        ],\n",
       "        [0.        , 0.33203125, 0.        ],\n",
       "        [0.6640625 , 0.        , 0.19921875],\n",
       "        [0.99609375, 0.33203125, 0.        ],\n",
       "        [0.        , 0.        , 0.33203125],\n",
       "        [0.        , 0.46484375, 0.86328125],\n",
       "        [0.33203125, 0.33203125, 0.        ],\n",
       "        [0.        , 0.33203125, 0.33203125],\n",
       "        [0.33203125, 0.19921875, 0.        ],\n",
       "        [0.203125  , 0.3359375 , 0.5       ],\n",
       "        [0.        , 0.5       , 0.        ],\n",
       "        [0.        , 0.        , 0.99609375],\n",
       "        [0.19921875, 0.6640625 , 0.86328125],\n",
       "        [0.        , 0.99609375, 0.99609375],\n",
       "        [0.33203125, 0.99609375, 0.6640625 ],\n",
       "        [0.6640625 , 0.99609375, 0.33203125],\n",
       "        [0.99609375, 0.99609375, 0.        ],\n",
       "        [0.99609375, 0.6640625 , 0.        ]])}"
      ]
     },
     "execution_count": 7,
     "metadata": {},
     "output_type": "execute_result"
    }
   ],
   "source": [
    "x = loadmat('human_colormap.mat')\n",
    "x"
   ]
  },
  {
   "cell_type": "code",
   "execution_count": 8,
   "metadata": {},
   "outputs": [],
   "source": [
    "color_map = (x['colormap'] * 256).astype(np.int32)"
   ]
  },
  {
   "cell_type": "code",
   "execution_count": 9,
   "metadata": {},
   "outputs": [
    {
     "data": {
      "text/plain": [
       "array([[  0,   0,   0],\n",
       "       [128,   0,   0],\n",
       "       [255,   0,   0],\n",
       "       [  0,  85,   0],\n",
       "       [170,   0,  51],\n",
       "       [255,  85,   0],\n",
       "       [  0,   0,  85],\n",
       "       [  0, 119, 221],\n",
       "       [ 85,  85,   0],\n",
       "       [  0,  85,  85],\n",
       "       [ 85,  51,   0],\n",
       "       [ 52,  86, 128],\n",
       "       [  0, 128,   0],\n",
       "       [  0,   0, 255],\n",
       "       [ 51, 170, 221],\n",
       "       [  0, 255, 255],\n",
       "       [ 85, 255, 170],\n",
       "       [170, 255,  85],\n",
       "       [255, 255,   0],\n",
       "       [255, 170,   0]], dtype=int32)"
      ]
     },
     "execution_count": 9,
     "metadata": {},
     "output_type": "execute_result"
    }
   ],
   "source": [
    "color_map"
   ]
  },
  {
   "cell_type": "code",
   "execution_count": null,
   "metadata": {},
   "outputs": [],
   "source": [
    "color_classes_map = {\n",
    "    0: 'Background',\n",
    "    1: 'Hat',\n",
    "    2: 'Hair',\n",
    "    3: 'Glove',\n",
    "    4: 'Sunglasses',\n",
    "    5: 'UpperClothes',\n",
    "    6: 'Dress',\n",
    "    7: 'Coat',\n",
    "    8: 'Socks',\n",
    "    9: 'Pants',\n",
    "    10: 'Torso-skin',\n",
    "    11: 'Scarf',\n",
    "    12: 'Skirt',\n",
    "    13: 'Face',\n",
    "    14: 'Left-arm ',\n",
    "    15: 'Right-arm',\n",
    "    16: 'Left-leg',\n",
    "    17: 'Right-leg',\n",
    "    18: 'Left-shoe',\n",
    "    19: 'Right-shoe',\n",
    "}"
   ]
  }
 ],
 "metadata": {
  "kernelspec": {
   "display_name": "Python 3",
   "language": "python",
   "name": "python3"
  },
  "language_info": {
   "codemirror_mode": {
    "name": "ipython",
    "version": 3
   },
   "file_extension": ".py",
   "mimetype": "text/x-python",
   "name": "python",
   "nbconvert_exporter": "python",
   "pygments_lexer": "ipython3",
   "version": "3.7.6"
  }
 },
 "nbformat": 4,
 "nbformat_minor": 4
}
